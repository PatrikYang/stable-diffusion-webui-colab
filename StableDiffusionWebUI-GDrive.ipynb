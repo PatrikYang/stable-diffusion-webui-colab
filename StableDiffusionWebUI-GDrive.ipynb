{
  "cells": [
    {
      "cell_type": "markdown",
      "metadata": {
        "colab_type": "text",
        "id": "view-in-github"
      },
      "source": [
        "<a href=\"https://colab.research.google.com/github/PatrikYang/stable-diffusion-webui-colab/blob/main/StableDiffusionWEBUI.ipynb\" target=\"_parent\"><img src=\"https://colab.research.google.com/assets/colab-badge.svg\" alt=\"Open In Colab\"/></a>"
      ]
    },
    {
      "cell_type": "markdown",
      "metadata": {
        "id": "2twbDuNnZyjM"
      },
      "source": [
        "# GPU Info"
      ]
    },
    {
      "cell_type": "code",
      "execution_count": null,
      "metadata": {
        "id": "p8FI40sFj9tU"
      },
      "outputs": [],
      "source": [
        "!nvidia-smi"
      ]
    },
    {
      "cell_type": "markdown",
      "metadata": {
        "id": "CnfuIbcQ-rn_"
      },
      "source": [
        "# Connect to Google Drive"
      ]
    },
    {
      "cell_type": "code",
      "execution_count": null,
      "metadata": {
        "cellView": "form",
        "id": "TYULEYPs-4EY"
      },
      "outputs": [],
      "source": [
        "#@markdown **Google Drive Path Variables**\n",
        "force_remount = False\n",
        "\n",
        "%cd /content/\n",
        "import os\n",
        "from google.colab import drive\n",
        "try:\n",
        "  drive_path = \"/content/drive\"\n",
        "  drive.mount(drive_path,force_remount=force_remount)\n",
        "except:\n",
        "  print(\"mounting drive error\")\n",
        "  exit()"
      ]
    },
    {
      "cell_type": "markdown",
      "metadata": {
        "id": "pqXhwqsT_oiO"
      },
      "source": [
        "# Launch web ui"
      ]
    },
    {
      "cell_type": "markdown",
      "metadata": {
        "id": "xt8lbdmC04ox"
      },
      "source": [
        "Launch web ui. You will get a link to nnn.gradio.app, follow it.\n",
        "\n",
        "Commandline arguments are:\n",
        "  - `--share` - create online gradio.app link\n",
        "  - `--gradio-debug` - print outputs to console"
      ]
    },
    {
      "cell_type": "code",
      "execution_count": null,
      "metadata": {
        "id": "R-xAdMA5wxXd"
      },
      "outputs": [],
      "source": [
        "%cd /content/drive/MyDrive/AI/stable-diffusion-webui\n",
        "!COMMANDLINE_ARGS=\"--share --disable-safe-unpickle --no-half-vae --xformers --reinstall-xformers --enable-insecure-extension-access\" REQS_FILE=\"requirements.txt\" python launch.py\n"
      ]
    }
  ],
  "metadata": {
    "accelerator": "GPU",
    "colab": {
      "collapsed_sections": [],
      "include_colab_link": true,
      "provenance": []
    },
    "gpuClass": "standard",
    "kernelspec": {
      "display_name": "Python 3",
      "name": "python3"
    },
    "language_info": {
      "name": "python"
    }
  },
  "nbformat": 4,
  "nbformat_minor": 0
}
