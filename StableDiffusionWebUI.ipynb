{
  "cells": [
    {
      "cell_type": "markdown",
      "metadata": {
        "colab_type": "text",
        "id": "view-in-github"
      },
      "source": [
        "<a href=\"https://colab.research.google.com/github/PatrikYang/stable-diffusion-webui-colab/blob/main/StableDiffusionWEBUI.ipynb\" target=\"_parent\"><img src=\"https://colab.research.google.com/assets/colab-badge.svg\" alt=\"Open In Colab\"/></a>"
      ]
    },
    {
      "cell_type": "markdown",
      "metadata": {
        "id": "2twbDuNnZyjM"
      },
      "source": [
        "# GPU Info"
      ]
    },
    {
      "cell_type": "code",
      "execution_count": null,
      "metadata": {
        "id": "p8FI40sFj9tU"
      },
      "outputs": [],
      "source": [
        "!nvidia-smi"
      ]
    },
    {
      "cell_type": "markdown",
      "metadata": {
        "id": "OHCtG9MT0jLq"
      },
      "source": [
        "# Clone webui repository"
      ]
    },
    {
      "cell_type": "code",
      "execution_count": null,
      "metadata": {
        "id": "sBbcB4vwj_jm"
      },
      "outputs": [],
      "source": [
        "%cd /content\n",
        "!pip install --upgrade fastapi==0.90.0\n",
        "!git clone https://github.com/AUTOMATIC1111/stable-diffusion-webui\n",
        "!git clone https://github.com/yfszzx/stable-diffusion-webui-images-browser /content/stable-diffusion-webui/extensions/stable-diffusion-webui-images-browser\n",
        "%cd /content/stable-diffusion-webui\n",
        "!git pull"
      ]
    },
    {
      "cell_type": "markdown",
      "metadata": {
        "id": "CnfuIbcQ-rn_"
      },
      "source": [
        "# Connect to Google Drive"
      ]
    },
    {
      "cell_type": "code",
      "execution_count": null,
      "metadata": {
        "cellView": "form",
        "id": "TYULEYPs-4EY"
      },
      "outputs": [],
      "source": [
        "#@markdown **Google Drive Path Variables**\n",
        "force_remount = False\n",
        "\n",
        "%cd /content/\n",
        "import os\n",
        "from google.colab import drive\n",
        "try:\n",
        "  drive_path = \"/content/drive\"\n",
        "  drive.mount(drive_path,force_remount=force_remount)\n",
        "  models_path_gdrive = \"/content/drive/MyDrive/AI/stable-diffusion-webui/models\" #@param {type:\"string\"}\n",
        "  output_path_gdrive = \"/content/drive/MyDrive/AI/OutputBackup\" #@param {type:\"string\"}\n",
        "  models_path = models_path_gdrive\n",
        "  output_path = output_path_gdrive\n",
        "except:\n",
        "  print(\"mounting drive error\")\n",
        "  exit()\n",
        "os.makedirs(models_path, exist_ok=True)\n",
        "os.makedirs(output_path, exist_ok=True)\n",
        "print(f\"models_path: {models_path}\")\n",
        "print(f\"output_path: {output_path}\")\n",
        "copy_model_path = \"/content/stable-diffusion-webui/models/Stable-diffusion\"\n",
        "copy_lora_path = \"/content/stable-diffusion-webui/models/Lora\"\n",
        "os.makedirs(copy_model_path, exist_ok=True)\n",
        "os.makedirs(copy_lora_path, exist_ok=True)\n",
        "print(f\"model_copy_to: {copy_model_path}\")\n",
        "print(f\"lora_copy_to: {copy_lora_path}\")\n",
        "!ln -s /content/drive/MyDrive/AI/stable-diffusion-webui/outputs /content/stable-diffusion-webui"
      ]
    },
    {
      "cell_type": "markdown",
      "metadata": {
        "id": "B5XygMHXnXEi"
      },
      "source": [
        "# Copy model"
      ]
    },
    {
      "cell_type": "code",
      "execution_count": null,
      "metadata": {
        "id": "0TFmHnJVBRI1"
      },
      "outputs": [],
      "source": [
        "!curl -Lo chilloutmixni.safetensors https://huggingface.co/nolanaatama/chomni/resolve/main/chomni.safetensors\n",
        "!curl -Lo ulzzang-6500.pt https://huggingface.co/nolanaatama/chomni/resolve/main/ulzzang-6500.pt\n",
        "!mv \"/content/chilloutmixni.safetensors\" \"/content/stable-diffusion-webui/models/Stable-diffusion\"\n",
        "!mv \"/content/ulzzang-6500.pt\" \"/content/stable-diffusion-webui/embeddings\"\n",
        "!cp -v /content/drive/MyDrive/AI/stable-diffusion-webui/models/Stable-diffusion/* /content/stable-diffusion-webui/models/Stable-diffusion/\n",
        "!cp -v /content/drive/MyDrive/AI/stable-diffusion-webui/models/Lora/* /content/stable-diffusion-webui/models/Lora/\n",
        "!ls /content/stable-diffusion-webui/models/*"
      ]
    },
    {
      "cell_type": "markdown",
      "metadata": {
        "id": "pqXhwqsT_oiO"
      },
      "source": [
        "# Launch webui"
      ]
    },
    {
      "cell_type": "markdown",
      "metadata": {
        "id": "xt8lbdmC04ox"
      },
      "source": [
        "Launch web ui. You will get a link to nnn.gradio.app, follow it.\n",
        "\n",
        "Commandline arguments are:\n",
        "  - `--share` - create online gradio.app link\n",
        "  - `--gradio-debug` - print outputs to console"
      ]
    },
    {
      "cell_type": "code",
      "execution_count": null,
      "metadata": {
        "id": "R-xAdMA5wxXd"
      },
      "outputs": [],
      "source": [
        "%cd /content/stable-diffusion-webui\n",
        "!COMMANDLINE_ARGS=\"--share --disable-safe-unpickle --no-half-vae --xformers --reinstall-xformers --enable-insecure-extension-access\" REQS_FILE=\"requirements.txt\" python launch.py\n"
      ]
    },
    {
      "cell_type": "markdown",
      "metadata": {
        "id": "xivwAZeMeiRy"
      },
      "source": [
        "# Copy output to Google Drive"
      ]
    },
    {
      "cell_type": "code",
      "execution_count": 7,
      "metadata": {
        "cellView": "form",
        "id": "DwFvGJiYelke"
      },
      "outputs": [],
      "source": [
        "#@markdown **Copy output to Google Drive (Optional)**\n",
        "copy_to_google_drive = False #@param {type:\"boolean\"}\n",
        "\n",
        "from distutils.dir_util import copy_tree\n",
        "\n",
        "if copy_to_google_drive:\n",
        "  copy_tree(\"/content/stable-diffusion-webui/outputs\", output_path)"
      ]
    }
  ],
  "metadata": {
    "accelerator": "GPU",
    "colab": {
      "collapsed_sections": [],
      "include_colab_link": true,
      "provenance": []
    },
    "gpuClass": "standard",
    "kernelspec": {
      "display_name": "Python 3",
      "name": "python3"
    },
    "language_info": {
      "name": "python"
    }
  },
  "nbformat": 4,
  "nbformat_minor": 0
}
